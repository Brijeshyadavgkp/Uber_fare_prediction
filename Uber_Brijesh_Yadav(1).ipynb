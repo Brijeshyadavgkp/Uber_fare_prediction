{
 "cells": [
  {
   "cell_type": "code",
   "execution_count": 1,
   "id": "9b730af3-38aa-4273-b79b-b9918f6e5106",
   "metadata": {},
   "outputs": [],
   "source": [
    "# Imporing all necessary libraries\n",
    "import numpy as np\n",
    "import pandas as pd\n",
    "import matplotlib.pyplot as plt\n",
    "import seaborn as sns"
   ]
  },
  {
   "cell_type": "markdown",
   "id": "b59932d1-4df7-489f-98cb-060df253fdaa",
   "metadata": {},
   "source": [
    "Task 1.\n",
    "**Loading and Exploring the Dataset** :\n",
    "The first task is to load the dataset containing historical ride data. Take a look at the structure of the data, examine the features, and gain insights into the variables that may influence the fare amount. "
   ]
  },
  {
   "cell_type": "code",
   "execution_count": 2,
   "id": "ed05e118-0dd1-4003-8f62-b0051ad0680f",
   "metadata": {},
   "outputs": [],
   "source": [
    "#Loading dataset\n",
    "df=pd.read_csv('uber.csv')"
   ]
  },
  {
   "cell_type": "markdown",
   "id": "cc12d38f-d3af-4e96-852a-f73cb1417055",
   "metadata": {},
   "source": [
    "Exploring the data"
   ]
  },
  {
   "cell_type": "code",
   "execution_count": 3,
   "id": "de70c69b-e92d-41c3-86a4-a65f3ae15a98",
   "metadata": {},
   "outputs": [
    {
     "data": {
      "text/html": [
       "<div>\n",
       "<style scoped>\n",
       "    .dataframe tbody tr th:only-of-type {\n",
       "        vertical-align: middle;\n",
       "    }\n",
       "\n",
       "    .dataframe tbody tr th {\n",
       "        vertical-align: top;\n",
       "    }\n",
       "\n",
       "    .dataframe thead th {\n",
       "        text-align: right;\n",
       "    }\n",
       "</style>\n",
       "<table border=\"1\" class=\"dataframe\">\n",
       "  <thead>\n",
       "    <tr style=\"text-align: right;\">\n",
       "      <th></th>\n",
       "      <th>Unnamed: 0</th>\n",
       "      <th>key</th>\n",
       "      <th>fare_amount</th>\n",
       "      <th>pickup_datetime</th>\n",
       "      <th>pickup_longitude</th>\n",
       "      <th>pickup_latitude</th>\n",
       "      <th>dropoff_longitude</th>\n",
       "      <th>dropoff_latitude</th>\n",
       "      <th>passenger_count</th>\n",
       "    </tr>\n",
       "  </thead>\n",
       "  <tbody>\n",
       "    <tr>\n",
       "      <th>0</th>\n",
       "      <td>24238194</td>\n",
       "      <td>2015-05-07 19:52:06.0000003</td>\n",
       "      <td>7.5</td>\n",
       "      <td>2015-05-07 19:52:06 UTC</td>\n",
       "      <td>-73.999817</td>\n",
       "      <td>40.738354</td>\n",
       "      <td>-73.999512</td>\n",
       "      <td>40.723217</td>\n",
       "      <td>1</td>\n",
       "    </tr>\n",
       "    <tr>\n",
       "      <th>1</th>\n",
       "      <td>27835199</td>\n",
       "      <td>2009-07-17 20:04:56.0000002</td>\n",
       "      <td>7.7</td>\n",
       "      <td>2009-07-17 20:04:56 UTC</td>\n",
       "      <td>-73.994355</td>\n",
       "      <td>40.728225</td>\n",
       "      <td>-73.994710</td>\n",
       "      <td>40.750325</td>\n",
       "      <td>1</td>\n",
       "    </tr>\n",
       "    <tr>\n",
       "      <th>2</th>\n",
       "      <td>44984355</td>\n",
       "      <td>2009-08-24 21:45:00.00000061</td>\n",
       "      <td>12.9</td>\n",
       "      <td>2009-08-24 21:45:00 UTC</td>\n",
       "      <td>-74.005043</td>\n",
       "      <td>40.740770</td>\n",
       "      <td>-73.962565</td>\n",
       "      <td>40.772647</td>\n",
       "      <td>1</td>\n",
       "    </tr>\n",
       "    <tr>\n",
       "      <th>3</th>\n",
       "      <td>25894730</td>\n",
       "      <td>2009-06-26 08:22:21.0000001</td>\n",
       "      <td>5.3</td>\n",
       "      <td>2009-06-26 08:22:21 UTC</td>\n",
       "      <td>-73.976124</td>\n",
       "      <td>40.790844</td>\n",
       "      <td>-73.965316</td>\n",
       "      <td>40.803349</td>\n",
       "      <td>3</td>\n",
       "    </tr>\n",
       "    <tr>\n",
       "      <th>4</th>\n",
       "      <td>17610152</td>\n",
       "      <td>2014-08-28 17:47:00.000000188</td>\n",
       "      <td>16.0</td>\n",
       "      <td>2014-08-28 17:47:00 UTC</td>\n",
       "      <td>-73.925023</td>\n",
       "      <td>40.744085</td>\n",
       "      <td>-73.973082</td>\n",
       "      <td>40.761247</td>\n",
       "      <td>5</td>\n",
       "    </tr>\n",
       "  </tbody>\n",
       "</table>\n",
       "</div>"
      ],
      "text/plain": [
       "   Unnamed: 0                            key  fare_amount  \\\n",
       "0    24238194    2015-05-07 19:52:06.0000003          7.5   \n",
       "1    27835199    2009-07-17 20:04:56.0000002          7.7   \n",
       "2    44984355   2009-08-24 21:45:00.00000061         12.9   \n",
       "3    25894730    2009-06-26 08:22:21.0000001          5.3   \n",
       "4    17610152  2014-08-28 17:47:00.000000188         16.0   \n",
       "\n",
       "           pickup_datetime  pickup_longitude  pickup_latitude  \\\n",
       "0  2015-05-07 19:52:06 UTC        -73.999817        40.738354   \n",
       "1  2009-07-17 20:04:56 UTC        -73.994355        40.728225   \n",
       "2  2009-08-24 21:45:00 UTC        -74.005043        40.740770   \n",
       "3  2009-06-26 08:22:21 UTC        -73.976124        40.790844   \n",
       "4  2014-08-28 17:47:00 UTC        -73.925023        40.744085   \n",
       "\n",
       "   dropoff_longitude  dropoff_latitude  passenger_count  \n",
       "0         -73.999512         40.723217                1  \n",
       "1         -73.994710         40.750325                1  \n",
       "2         -73.962565         40.772647                1  \n",
       "3         -73.965316         40.803349                3  \n",
       "4         -73.973082         40.761247                5  "
      ]
     },
     "execution_count": 3,
     "metadata": {},
     "output_type": "execute_result"
    }
   ],
   "source": [
    "df.head()"
   ]
  },
  {
   "cell_type": "code",
   "execution_count": 4,
   "id": "74d6f56a-6a03-4739-b0b3-2533b4d17b91",
   "metadata": {},
   "outputs": [
    {
     "data": {
      "text/plain": [
       "(200000, 9)"
      ]
     },
     "execution_count": 4,
     "metadata": {},
     "output_type": "execute_result"
    }
   ],
   "source": [
    "df.shape"
   ]
  },
  {
   "cell_type": "markdown",
   "id": "f23088c8-ab0e-446e-8f10-4e2cc0872be2",
   "metadata": {},
   "source": [
    "Task 2 \n",
    "**Handling Missing Data**"
   ]
  },
  {
   "cell_type": "code",
   "execution_count": 5,
   "id": "628464a7-e627-4c40-95c7-86fa08b5a3b0",
   "metadata": {},
   "outputs": [
    {
     "data": {
      "text/plain": [
       "dropoff_longitude    1\n",
       "dropoff_latitude     1\n",
       "Unnamed: 0           0\n",
       "key                  0\n",
       "fare_amount          0\n",
       "pickup_datetime      0\n",
       "pickup_longitude     0\n",
       "pickup_latitude      0\n",
       "passenger_count      0\n",
       "dtype: int64"
      ]
     },
     "execution_count": 5,
     "metadata": {},
     "output_type": "execute_result"
    }
   ],
   "source": [
    "# checking for null values\n",
    "df.isna().sum().sort_values(ascending=False)"
   ]
  },
  {
   "cell_type": "code",
   "execution_count": 6,
   "id": "08b07af3-64b5-4025-8559-b2cf8ffabc7c",
   "metadata": {},
   "outputs": [],
   "source": [
    "# As there are only 2 rows with null value so droping them will not effect our analysis\n",
    "df=df.dropna()"
   ]
  },
  {
   "cell_type": "code",
   "execution_count": 7,
   "id": "d7c52313-5e9c-44f0-9a6e-2b258de3a5e4",
   "metadata": {},
   "outputs": [
    {
     "data": {
      "text/plain": [
       "(199999, 9)"
      ]
     },
     "execution_count": 7,
     "metadata": {},
     "output_type": "execute_result"
    }
   ],
   "source": [
    "df.shape"
   ]
  },
  {
   "cell_type": "code",
   "execution_count": 8,
   "id": "c5d62a5b-3f49-4396-9615-70ae733b2e25",
   "metadata": {},
   "outputs": [
    {
     "data": {
      "text/plain": [
       "0"
      ]
     },
     "execution_count": 8,
     "metadata": {},
     "output_type": "execute_result"
    }
   ],
   "source": [
    "df.isna().sum().sum()"
   ]
  },
  {
   "cell_type": "code",
   "execution_count": 9,
   "id": "f4933035-8550-47ef-a7a3-5aa9c95fb15f",
   "metadata": {},
   "outputs": [
    {
     "data": {
      "text/plain": [
       "count    199999.000000\n",
       "mean         11.359892\n",
       "std           9.901760\n",
       "min         -52.000000\n",
       "25%           6.000000\n",
       "50%           8.500000\n",
       "75%          12.500000\n",
       "max         499.000000\n",
       "Name: fare_amount, dtype: float64"
      ]
     },
     "execution_count": 9,
     "metadata": {},
     "output_type": "execute_result"
    }
   ],
   "source": [
    "# Exploring the column fare_amount\n",
    "df['fare_amount'].describe()"
   ]
  },
  {
   "cell_type": "code",
   "execution_count": 10,
   "id": "10e6afb1-0c8c-4123-801b-eaa2306f6f85",
   "metadata": {},
   "outputs": [],
   "source": [
    "# The minimum value of -52.00 suggests there may be outliers or data entry errors in the dataset, as fares are generally non-negative. "
   ]
  },
  {
   "cell_type": "code",
   "execution_count": 11,
   "id": "87b8aae2-e638-47cf-ad34-d39bdfda280e",
   "metadata": {},
   "outputs": [],
   "source": [
    "# Making all fare amounts positive\n",
    "df['fare_amount'] = df['fare_amount'].abs()"
   ]
  },
  {
   "cell_type": "code",
   "execution_count": 12,
   "id": "216fd601-90f0-4ae4-ac98-467403f762a0",
   "metadata": {},
   "outputs": [
    {
     "data": {
      "text/plain": [
       "count    199999.000000\n",
       "mean         11.362780\n",
       "std           9.898445\n",
       "min           0.000000\n",
       "25%           6.000000\n",
       "50%           8.500000\n",
       "75%          12.500000\n",
       "max         499.000000\n",
       "Name: fare_amount, dtype: float64"
      ]
     },
     "execution_count": 12,
     "metadata": {},
     "output_type": "execute_result"
    }
   ],
   "source": [
    "df['fare_amount'].describe()"
   ]
  },
  {
   "cell_type": "code",
   "execution_count": 13,
   "id": "0c83d170-b4d4-437e-8767-51d149b5049b",
   "metadata": {},
   "outputs": [
    {
     "data": {
      "image/png": "[encoded data removed]",
      "text/plain": [
       "<Figure size 640x480 with 1 Axes>"
      ]
     },
     "metadata": {},
     "output_type": "display_data"
    }
   ],
   "source": [
    "# checking for outliers in the dataset\n",
    "sns.set_style(\"darkgrid\", {\"grid.color\": \".6\", \"grid.linestyle\": \":\"})\n",
    "sns.boxplot(data=df,x='fare_amount')\n",
    "plt.show()"
   ]
  },
  {
   "cell_type": "code",
   "execution_count": 14,
   "id": "3edaa32f-367f-4803-b863-3f8c83102ef0",
   "metadata": {},
   "outputs": [],
   "source": [
    "# using IQR Method for Outliers\n",
    "Q1 = df['fare_amount'].quantile(0.25)\n",
    "Q3 = df['fare_amount'].quantile(0.75)\n",
    "IQR = Q3 - Q1\n",
    "lower_bound = Q1 - 1.5 * IQR\n",
    "upper_bound = Q3 + 1.5 * IQR\n",
    "df = df[(df['fare_amount'] >= lower_bound) & (df['fare_amount'] <= upper_bound)]"
   ]
  },
  {
   "cell_type": "code",
   "execution_count": 15,
   "id": "bf8b442b-f761-4933-9187-8deb3c505335",
   "metadata": {},
   "outputs": [
    {
     "data": {
      "text/plain": [
       "(182839, 9)"
      ]
     },
     "execution_count": 15,
     "metadata": {},
     "output_type": "execute_result"
    }
   ],
   "source": [
    "df.shape"
   ]
  },
  {
   "cell_type": "code",
   "execution_count": 16,
   "id": "392e8d09-b0e5-4d1e-8f19-14a9962358b7",
   "metadata": {},
   "outputs": [
    {
     "data": {
      "image/png": "[encoded data removed]",
      "text/plain": [
       "<Figure size 640x480 with 1 Axes>"
      ]
     },
     "metadata": {},
     "output_type": "display_data"
    }
   ],
   "source": [
    "sns.set_style(\"darkgrid\", {\"grid.color\": \".6\", \"grid.linestyle\": \":\"})\n",
    "sns.boxplot(data=df,x='fare_amount')\n",
    "plt.show()"
   ]
  },
  {
   "cell_type": "code",
   "execution_count": 17,
   "id": "cbd1c44a-188d-4530-abaf-f0e7addd6dcb",
   "metadata": {},
   "outputs": [
    {
     "data": {
      "image/png": "[encoded data removed]",
      "text/plain": [
       "<Figure size 1000x600 with 1 Axes>"
      ]
     },
     "metadata": {},
     "output_type": "display_data"
    }
   ],
   "source": [
    "# Undestanding distribution of fare_amount\n",
    "plt.figure(figsize=(10, 6))\n",
    "sns.histplot(df['fare_amount'], bins=30, kde=True)\n",
    "plt.xlabel('Fare Amount')\n",
    "plt.ylabel('Frequency')\n",
    "plt.title('Distribution of Fare Amount')\n",
    "plt.show()"
   ]
  },
  {
   "cell_type": "code",
   "execution_count": 18,
   "id": "39f8abc1-cf41-460a-8db8-15abb566803d",
   "metadata": {},
   "outputs": [],
   "source": [
    "# histogram shows that data is skewed right"
   ]
  },
  {
   "cell_type": "markdown",
   "id": "4d19e7a8-c0c9-46c5-a73a-06b62bf2a2a1",
   "metadata": {},
   "source": [
    "Task 3 \n",
    "**Feature Engineering**"
   ]
  },
  {
   "cell_type": "code",
   "execution_count": 19,
   "id": "2555f7c8-20ca-4977-b49a-5c7f74a9c3ab",
   "metadata": {},
   "outputs": [],
   "source": [
    "df = df[(df['pickup_latitude']  >= -90) & (df['pickup_latitude'] <= 90)]"
   ]
  },
  {
   "cell_type": "code",
   "execution_count": 20,
   "id": "b1cfc348-8fa0-4ba3-9ffb-0ba4a29068d6",
   "metadata": {},
   "outputs": [],
   "source": [
    "df = df[(df['dropoff_latitude']  >= -90) & (df['dropoff_latitude'] <= 90)]"
   ]
  },
  {
   "cell_type": "code",
   "execution_count": 21,
   "id": "5ff28b62-1b5f-421a-a1aa-f55ee5e51ac0",
   "metadata": {},
   "outputs": [
    {
     "data": {
      "text/plain": [
       "(182834, 9)"
      ]
     },
     "execution_count": 21,
     "metadata": {},
     "output_type": "execute_result"
    }
   ],
   "source": [
    "df.shape"
   ]
  },
  {
   "cell_type": "code",
   "execution_count": 22,
   "id": "64265bd2-d4af-4d5e-ab39-1d1c59df56dc",
   "metadata": {},
   "outputs": [],
   "source": [
    "# calculating the haversine distance between pickup and drop-off points\n",
    "from geopy.distance import geodesic\n",
    "import pandas as pd\n",
    "\n",
    "# Defining the function to calculate distance\n",
    "def calculate_distance(row):\n",
    "    try:\n",
    "        pickup = (row['pickup_latitude'], row['pickup_longitude'])\n",
    "        dropoff = (row['dropoff_latitude'], row['dropoff_longitude'])\n",
    "        return geodesic(pickup, dropoff).kilometers\n",
    "    except Exception as e:\n",
    "        print(f\"Error calculating distance for row {row.name}: {e}\")\n",
    "        return None  # Return None for rows with errors\n",
    "\n",
    "# Checking for missing data in critical columns\n",
    "df = df.dropna(subset=['pickup_latitude', 'pickup_longitude', 'dropoff_latitude', 'dropoff_longitude'])\n",
    "\n",
    "# Appling the function and calculate distance\n",
    "df['distance_km'] = df.apply(calculate_distance, axis=1)"
   ]
  },
  {
   "cell_type": "code",
   "execution_count": 23,
   "id": "e629b086-df42-494a-974f-3d4567de9af3",
   "metadata": {},
   "outputs": [],
   "source": [
    "# Convert pickup_datetime to datetime if not already\n",
    "df['pickup_datetime'] = pd.to_datetime(df['pickup_datetime'], errors='coerce')\n",
    "\n",
    "# Check for any invalid conversions\n",
    "if df['pickup_datetime'].isnull().any():\n",
    "    print(\"Some values in 'pickup_datetime' could not be converted to datetime format. Check for invalid entries.\")\n",
    "\n",
    "# Now extract hour of day\n",
    "df['hour'] = df['pickup_datetime'].dt.hour\n",
    "\n",
    "# Time of Day (morning, afternoon, evening, night)\n",
    "def get_time_of_day(hour):\n",
    "    if 5 <= hour < 12:\n",
    "        return 'morning'\n",
    "    elif 12 <= hour < 17:\n",
    "        return 'afternoon'\n",
    "    elif 17 <= hour < 22:\n",
    "        return 'evening'\n",
    "    else:\n",
    "        return 'night'\n",
    "\n",
    "df['time_of_day'] = df['hour'].apply(get_time_of_day)\n",
    "\n",
    "# Day of the week (0=Monday, 6=Sunday)\n",
    "df['day_of_week'] = df['pickup_datetime'].dt.dayofweek\n",
    "\n",
    "# Month\n",
    "df['month'] = df['pickup_datetime'].dt.month"
   ]
  },
  {
   "cell_type": "code",
   "execution_count": 24,
   "id": "a34f959c-ef32-4865-aa88-b2a11eb3135f",
   "metadata": {},
   "outputs": [],
   "source": [
    "# Creating a binary feature to indicate if the ride happened during rush hours (e.g., 7–9 AM and 4–7 PM). Fares may be higher during these periods.\n",
    "def is_rush_hour(hour):\n",
    "    return 1 if (7 <= hour <= 9) or (16 <= hour <= 19) else 0\n",
    "\n",
    "df['rush_hour'] = df['hour'].apply(is_rush_hour)"
   ]
  },
  {
   "cell_type": "code",
   "execution_count": 25,
   "id": "7ce455f6-38dc-40c3-8b02-e2fa9931bddd",
   "metadata": {},
   "outputs": [],
   "source": [
    "# Creating a binary indicator for whether the trip occurred on a holiday\n",
    "from pandas.tseries.holiday import USFederalHolidayCalendar\n",
    "\n",
    "cal = USFederalHolidayCalendar()\n",
    "holidays = cal.holidays(start=df['pickup_datetime'].min(), end=df['pickup_datetime'].max())\n",
    "df['holiday'] = df['pickup_datetime'].dt.date.isin(holidays.date).astype(int)"
   ]
  },
  {
   "cell_type": "code",
   "execution_count": 26,
   "id": "59687a3d-68f5-47f5-a331-3c689907e975",
   "metadata": {},
   "outputs": [],
   "source": [
    "# Create a binary feature indicating whether the ride occurred on a weekend\n",
    "df['weekend'] = df['pickup_datetime'].dt.dayofweek.isin([5, 6]).astype(int)"
   ]
  },
  {
   "cell_type": "code",
   "execution_count": 27,
   "id": "1f1c140f-0711-4315-ab47-cf602fc1e6af",
   "metadata": {},
   "outputs": [],
   "source": [
    "# 2. Distance Features\n",
    "from math import radians, sin, cos, sqrt, atan2\n",
    "\n",
    "# Haversine function to calculate distance in kilometers\n",
    "def haversine(lat1, lon1, lat2, lon2):\n",
    "    R = 6371  # Radius of the Earth in kilometers\n",
    "    # Convert latitude and longitude from degrees to radians\n",
    "    lat1, lon1, lat2, lon2 = map(radians, [lat1, lon1, lat2, lon2])\n",
    "    # Differences in coordinates\n",
    "    dlat = lat2 - lat1\n",
    "    dlon = lon2 - lon1\n",
    "    # Haversine formula\n",
    "    a = sin(dlat / 2)**2 + cos(lat1) * cos(lat2) * sin(dlon / 2)**2\n",
    "    c = 2 * atan2(sqrt(a), sqrt(1 - a))\n",
    "    distance = R * c  # in kilometers\n",
    "    return distance\n",
    "\n",
    "# Apply the haversine function to calculate distances\n",
    "df['distance_km'] = df.apply(\n",
    "    lambda row: haversine(\n",
    "        row['pickup_latitude'], row['pickup_longitude'], \n",
    "        row['dropoff_latitude'], row['dropoff_longitude']\n",
    "    ), axis=1\n",
    ")"
   ]
  },
  {
   "cell_type": "code",
   "execution_count": 28,
   "id": "ee2bf172-7d08-4a3f-8eeb-8aeb3b05b324",
   "metadata": {},
   "outputs": [],
   "source": [
    "# Creating feature fare per kilometer to capture any anomalies or consistency in pricing across trips\n",
    "df['fare_per_km'] = df['fare_amount'] / df['distance_km']"
   ]
  },
  {
   "cell_type": "code",
   "execution_count": 29,
   "id": "e9c92e4a-d417-4aca-9b86-506845fc0c03",
   "metadata": {},
   "outputs": [
    {
     "data": {
      "text/html": [
       "<div>\n",
       "<style scoped>\n",
       "    .dataframe tbody tr th:only-of-type {\n",
       "        vertical-align: middle;\n",
       "    }\n",
       "\n",
       "    .dataframe tbody tr th {\n",
       "        vertical-align: top;\n",
       "    }\n",
       "\n",
       "    .dataframe thead th {\n",
       "        text-align: right;\n",
       "    }\n",
       "</style>\n",
       "<table border=\"1\" class=\"dataframe\">\n",
       "  <thead>\n",
       "    <tr style=\"text-align: right;\">\n",
       "      <th></th>\n",
       "      <th>Unnamed: 0</th>\n",
       "      <th>key</th>\n",
       "      <th>fare_amount</th>\n",
       "      <th>pickup_datetime</th>\n",
       "      <th>pickup_longitude</th>\n",
       "      <th>pickup_latitude</th>\n",
       "      <th>dropoff_longitude</th>\n",
       "      <th>dropoff_latitude</th>\n",
       "      <th>passenger_count</th>\n",
       "      <th>distance_km</th>\n",
       "      <th>hour</th>\n",
       "      <th>time_of_day</th>\n",
       "      <th>day_of_week</th>\n",
       "      <th>month</th>\n",
       "      <th>rush_hour</th>\n",
       "      <th>holiday</th>\n",
       "      <th>weekend</th>\n",
       "      <th>fare_per_km</th>\n",
       "    </tr>\n",
       "  </thead>\n",
       "  <tbody>\n",
       "    <tr>\n",
       "      <th>0</th>\n",
       "      <td>24238194</td>\n",
       "      <td>2015-05-07 19:52:06.0000003</td>\n",
       "      <td>7.5</td>\n",
       "      <td>2015-05-07 19:52:06+00:00</td>\n",
       "      <td>-73.999817</td>\n",
       "      <td>40.738354</td>\n",
       "      <td>-73.999512</td>\n",
       "      <td>40.723217</td>\n",
       "      <td>1</td>\n",
       "      <td>1.683323</td>\n",
       "      <td>19</td>\n",
       "      <td>evening</td>\n",
       "      <td>3</td>\n",
       "      <td>5</td>\n",
       "      <td>1</td>\n",
       "      <td>0</td>\n",
       "      <td>0</td>\n",
       "      <td>4.455474</td>\n",
       "    </tr>\n",
       "    <tr>\n",
       "      <th>1</th>\n",
       "      <td>27835199</td>\n",
       "      <td>2009-07-17 20:04:56.0000002</td>\n",
       "      <td>7.7</td>\n",
       "      <td>2009-07-17 20:04:56+00:00</td>\n",
       "      <td>-73.994355</td>\n",
       "      <td>40.728225</td>\n",
       "      <td>-73.994710</td>\n",
       "      <td>40.750325</td>\n",
       "      <td>1</td>\n",
       "      <td>2.457590</td>\n",
       "      <td>20</td>\n",
       "      <td>evening</td>\n",
       "      <td>4</td>\n",
       "      <td>7</td>\n",
       "      <td>0</td>\n",
       "      <td>0</td>\n",
       "      <td>0</td>\n",
       "      <td>3.133151</td>\n",
       "    </tr>\n",
       "    <tr>\n",
       "      <th>2</th>\n",
       "      <td>44984355</td>\n",
       "      <td>2009-08-24 21:45:00.00000061</td>\n",
       "      <td>12.9</td>\n",
       "      <td>2009-08-24 21:45:00+00:00</td>\n",
       "      <td>-74.005043</td>\n",
       "      <td>40.740770</td>\n",
       "      <td>-73.962565</td>\n",
       "      <td>40.772647</td>\n",
       "      <td>1</td>\n",
       "      <td>5.036377</td>\n",
       "      <td>21</td>\n",
       "      <td>evening</td>\n",
       "      <td>0</td>\n",
       "      <td>8</td>\n",
       "      <td>0</td>\n",
       "      <td>0</td>\n",
       "      <td>0</td>\n",
       "      <td>2.561365</td>\n",
       "    </tr>\n",
       "    <tr>\n",
       "      <th>3</th>\n",
       "      <td>25894730</td>\n",
       "      <td>2009-06-26 08:22:21.0000001</td>\n",
       "      <td>5.3</td>\n",
       "      <td>2009-06-26 08:22:21+00:00</td>\n",
       "      <td>-73.976124</td>\n",
       "      <td>40.790844</td>\n",
       "      <td>-73.965316</td>\n",
       "      <td>40.803349</td>\n",
       "      <td>3</td>\n",
       "      <td>1.661683</td>\n",
       "      <td>8</td>\n",
       "      <td>morning</td>\n",
       "      <td>4</td>\n",
       "      <td>6</td>\n",
       "      <td>1</td>\n",
       "      <td>0</td>\n",
       "      <td>0</td>\n",
       "      <td>3.189536</td>\n",
       "    </tr>\n",
       "    <tr>\n",
       "      <th>4</th>\n",
       "      <td>17610152</td>\n",
       "      <td>2014-08-28 17:47:00.000000188</td>\n",
       "      <td>16.0</td>\n",
       "      <td>2014-08-28 17:47:00+00:00</td>\n",
       "      <td>-73.925023</td>\n",
       "      <td>40.744085</td>\n",
       "      <td>-73.973082</td>\n",
       "      <td>40.761247</td>\n",
       "      <td>5</td>\n",
       "      <td>4.475450</td>\n",
       "      <td>17</td>\n",
       "      <td>evening</td>\n",
       "      <td>3</td>\n",
       "      <td>8</td>\n",
       "      <td>1</td>\n",
       "      <td>0</td>\n",
       "      <td>0</td>\n",
       "      <td>3.575060</td>\n",
       "    </tr>\n",
       "  </tbody>\n",
       "</table>\n",
       "</div>"
      ],
      "text/plain": [
       "   Unnamed: 0                            key  fare_amount  \\\n",
       "0    24238194    2015-05-07 19:52:06.0000003          7.5   \n",
       "1    27835199    2009-07-17 20:04:56.0000002          7.7   \n",
       "2    44984355   2009-08-24 21:45:00.00000061         12.9   \n",
       "3    25894730    2009-06-26 08:22:21.0000001          5.3   \n",
       "4    17610152  2014-08-28 17:47:00.000000188         16.0   \n",
       "\n",
       "            pickup_datetime  pickup_longitude  pickup_latitude  \\\n",
       "0 2015-05-07 19:52:06+00:00        -73.999817        40.738354   \n",
       "1 2009-07-17 20:04:56+00:00        -73.994355        40.728225   \n",
       "2 2009-08-24 21:45:00+00:00        -74.005043        40.740770   \n",
       "3 2009-06-26 08:22:21+00:00        -73.976124        40.790844   \n",
       "4 2014-08-28 17:47:00+00:00        -73.925023        40.744085   \n",
       "\n",
       "   dropoff_longitude  dropoff_latitude  passenger_count  distance_km  hour  \\\n",
       "0         -73.999512         40.723217                1     1.683323    19   \n",
       "1         -73.994710         40.750325                1     2.457590    20   \n",
       "2         -73.962565         40.772647                1     5.036377    21   \n",
       "3         -73.965316         40.803349                3     1.661683     8   \n",
       "4         -73.973082         40.761247                5     4.475450    17   \n",
       "\n",
       "  time_of_day  day_of_week  month  rush_hour  holiday  weekend  fare_per_km  \n",
       "0     evening            3      5          1        0        0     4.455474  \n",
       "1     evening            4      7          0        0        0     3.133151  \n",
       "2     evening            0      8          0        0        0     2.561365  \n",
       "3     morning            4      6          1        0        0     3.189536  \n",
       "4     evening            3      8          1        0        0     3.575060  "
      ]
     },
     "execution_count": 29,
     "metadata": {},
     "output_type": "execute_result"
    }
   ],
   "source": [
    "# Exploring new columns\n",
    "df.head()"
   ]
  },
  {
   "cell_type": "code",
   "execution_count": 30,
   "id": "c6a3c73b-a9e5-4f30-8372-83108d149f2c",
   "metadata": {},
   "outputs": [],
   "source": [
    "# 3. Passenger-Related Features\n",
    "# Passenger Count Categories\n",
    "def categorize_passenger_count(count):\n",
    "    if count == 1:\n",
    "        return 'solo'\n",
    "    elif count <= 3:\n",
    "        return 'small group'\n",
    "    else:\n",
    "        return 'large group'\n",
    "\n",
    "df['passenger_category'] = df['passenger_count'].apply(categorize_passenger_count)"
   ]
  },
  {
   "cell_type": "code",
   "execution_count": 31,
   "id": "3686cce3-c5dd-4a67-8424-d1c56a95230a",
   "metadata": {},
   "outputs": [],
   "source": [
    "# Removing infinity values from dataset\n",
    "df= df.replace([np.inf, -np.inf], np.nan)"
   ]
  },
  {
   "cell_type": "code",
   "execution_count": 32,
   "id": "1c65bd92-0475-4d74-bed3-3d6dcb2449d5",
   "metadata": {},
   "outputs": [],
   "source": [
    "df['fare_per_km'] = df['fare_per_km'].fillna(df['fare_per_km'].mean())"
   ]
  },
  {
   "cell_type": "markdown",
   "id": "403cd413-a940-4607-ab52-99ecd4af3877",
   "metadata": {},
   "source": [
    "Task 4 \n",
    "**Split the Dataset**"
   ]
  },
  {
   "cell_type": "code",
   "execution_count": 33,
   "id": "d13882c2-ad8e-43ba-8af1-13ae88be6c7b",
   "metadata": {},
   "outputs": [
    {
     "data": {
      "text/html": [
       "<div>\n",
       "<style scoped>\n",
       "    .dataframe tbody tr th:only-of-type {\n",
       "        vertical-align: middle;\n",
       "    }\n",
       "\n",
       "    .dataframe tbody tr th {\n",
       "        vertical-align: top;\n",
       "    }\n",
       "\n",
       "    .dataframe thead th {\n",
       "        text-align: right;\n",
       "    }\n",
       "</style>\n",
       "<table border=\"1\" class=\"dataframe\">\n",
       "  <thead>\n",
       "    <tr style=\"text-align: right;\">\n",
       "      <th></th>\n",
       "      <th>pickup_longitude</th>\n",
       "      <th>pickup_latitude</th>\n",
       "      <th>dropoff_longitude</th>\n",
       "      <th>dropoff_latitude</th>\n",
       "      <th>passenger_count</th>\n",
       "      <th>distance_km</th>\n",
       "      <th>hour</th>\n",
       "      <th>time_of_day</th>\n",
       "      <th>day_of_week</th>\n",
       "      <th>month</th>\n",
       "      <th>rush_hour</th>\n",
       "      <th>holiday</th>\n",
       "      <th>weekend</th>\n",
       "      <th>fare_per_km</th>\n",
       "      <th>passenger_category</th>\n",
       "    </tr>\n",
       "  </thead>\n",
       "  <tbody>\n",
       "    <tr>\n",
       "      <th>131495</th>\n",
       "      <td>0.000000</td>\n",
       "      <td>0.000000</td>\n",
       "      <td>0.000000</td>\n",
       "      <td>0.000000</td>\n",
       "      <td>5</td>\n",
       "      <td>0.000000</td>\n",
       "      <td>19</td>\n",
       "      <td>evening</td>\n",
       "      <td>2</td>\n",
       "      <td>9</td>\n",
       "      <td>1</td>\n",
       "      <td>0</td>\n",
       "      <td>0</td>\n",
       "      <td>15.377734</td>\n",
       "      <td>large group</td>\n",
       "    </tr>\n",
       "    <tr>\n",
       "      <th>183988</th>\n",
       "      <td>-73.966353</td>\n",
       "      <td>40.799533</td>\n",
       "      <td>-73.974270</td>\n",
       "      <td>40.784830</td>\n",
       "      <td>1</td>\n",
       "      <td>1.765530</td>\n",
       "      <td>11</td>\n",
       "      <td>morning</td>\n",
       "      <td>5</td>\n",
       "      <td>9</td>\n",
       "      <td>0</td>\n",
       "      <td>0</td>\n",
       "      <td>1</td>\n",
       "      <td>3.001932</td>\n",
       "      <td>solo</td>\n",
       "    </tr>\n",
       "    <tr>\n",
       "      <th>178251</th>\n",
       "      <td>-73.969762</td>\n",
       "      <td>40.763371</td>\n",
       "      <td>-73.958264</td>\n",
       "      <td>40.764284</td>\n",
       "      <td>1</td>\n",
       "      <td>0.973667</td>\n",
       "      <td>9</td>\n",
       "      <td>morning</td>\n",
       "      <td>0</td>\n",
       "      <td>5</td>\n",
       "      <td>1</td>\n",
       "      <td>0</td>\n",
       "      <td>0</td>\n",
       "      <td>8.729883</td>\n",
       "      <td>solo</td>\n",
       "    </tr>\n",
       "    <tr>\n",
       "      <th>10748</th>\n",
       "      <td>-74.005059</td>\n",
       "      <td>40.741572</td>\n",
       "      <td>-73.975334</td>\n",
       "      <td>40.757750</td>\n",
       "      <td>1</td>\n",
       "      <td>3.083171</td>\n",
       "      <td>3</td>\n",
       "      <td>night</td>\n",
       "      <td>4</td>\n",
       "      <td>1</td>\n",
       "      <td>0</td>\n",
       "      <td>0</td>\n",
       "      <td>0</td>\n",
       "      <td>2.756902</td>\n",
       "      <td>solo</td>\n",
       "    </tr>\n",
       "    <tr>\n",
       "      <th>78705</th>\n",
       "      <td>-73.992173</td>\n",
       "      <td>40.759276</td>\n",
       "      <td>-73.992014</td>\n",
       "      <td>40.738286</td>\n",
       "      <td>1</td>\n",
       "      <td>2.334020</td>\n",
       "      <td>9</td>\n",
       "      <td>morning</td>\n",
       "      <td>2</td>\n",
       "      <td>3</td>\n",
       "      <td>1</td>\n",
       "      <td>0</td>\n",
       "      <td>0</td>\n",
       "      <td>5.784012</td>\n",
       "      <td>solo</td>\n",
       "    </tr>\n",
       "  </tbody>\n",
       "</table>\n",
       "</div>"
      ],
      "text/plain": [
       "        pickup_longitude  pickup_latitude  dropoff_longitude  \\\n",
       "131495          0.000000         0.000000           0.000000   \n",
       "183988        -73.966353        40.799533         -73.974270   \n",
       "178251        -73.969762        40.763371         -73.958264   \n",
       "10748         -74.005059        40.741572         -73.975334   \n",
       "78705         -73.992173        40.759276         -73.992014   \n",
       "\n",
       "        dropoff_latitude  passenger_count  distance_km  hour time_of_day  \\\n",
       "131495          0.000000                5     0.000000    19     evening   \n",
       "183988         40.784830                1     1.765530    11     morning   \n",
       "178251         40.764284                1     0.973667     9     morning   \n",
       "10748          40.757750                1     3.083171     3       night   \n",
       "78705          40.738286                1     2.334020     9     morning   \n",
       "\n",
       "        day_of_week  month  rush_hour  holiday  weekend  fare_per_km  \\\n",
       "131495            2      9          1        0        0    15.377734   \n",
       "183988            5      9          0        0        1     3.001932   \n",
       "178251            0      5          1        0        0     8.729883   \n",
       "10748             4      1          0        0        0     2.756902   \n",
       "78705             2      3          1        0        0     5.784012   \n",
       "\n",
       "       passenger_category  \n",
       "131495        large group  \n",
       "183988               solo  \n",
       "178251               solo  \n",
       "10748                solo  \n",
       "78705                solo  "
      ]
     },
     "execution_count": 33,
     "metadata": {},
     "output_type": "execute_result"
    }
   ],
   "source": [
    "from sklearn.model_selection import train_test_split\n",
    "X = df.drop(columns=['fare_amount','Unnamed: 0','pickup_datetime','key'])\n",
    "y = df['fare_amount']\n",
    "X_train, X_test, y_train, y_test = train_test_split(X, y, test_size=0.2, random_state=100)\n",
    "X_train.head()"
   ]
  },
  {
   "cell_type": "markdown",
   "id": "c82668e7-720d-49cd-aa6c-d23e6b851a5a",
   "metadata": {},
   "source": [
    "Task 5\n",
    "**Data Scaling/Normalization**"
   ]
  },
  {
   "cell_type": "code",
   "execution_count": 34,
   "id": "1776a67e-f520-4ce9-a978-dbc075f32d9e",
   "metadata": {},
   "outputs": [
    {
     "name": "stdout",
     "output_type": "stream",
     "text": [
      "Standard Scaled Training Set:\n",
      "           month  passenger_count  distance_km      hour  day_of_week  \\\n",
      "131495  0.795832         2.350674    -0.050856  0.841276    -0.540486   \n",
      "183988  0.795832        -0.482049    -0.045986 -0.386622     1.004367   \n",
      "178251 -0.366041        -0.482049    -0.048170 -0.693597    -1.570389   \n",
      "10748  -1.527913        -0.482049    -0.042352 -1.614521     0.489416   \n",
      "78705  -0.946977        -0.482049    -0.044418 -0.693597    -0.540486   \n",
      "\n",
      "           month  rush_hour   holiday   weekend  fare_per_km  \n",
      "131495  0.795832   1.380282 -0.143247 -0.628923    -0.000834  \n",
      "183988  0.795832  -0.724490 -0.143247  1.590019    -0.025282  \n",
      "178251 -0.366041   1.380282 -0.143247 -0.628923    -0.013967  \n",
      "10748  -1.527913  -0.724490 -0.143247 -0.628923    -0.025766  \n",
      "78705  -0.946977   1.380282 -0.143247 -0.628923    -0.019786  \n",
      "\n",
      "Min-Max Scaled Training Set:\n",
      "           month  passenger_count  distance_km      hour  day_of_week  \\\n",
      "131495  0.727273         0.024038     0.000000  0.826087     0.333333   \n",
      "183988  0.727273         0.004808     0.000201  0.478261     0.833333   \n",
      "178251  0.363636         0.004808     0.000111  0.391304     0.000000   \n",
      "10748   0.000000         0.004808     0.000351  0.130435     0.666667   \n",
      "78705   0.181818         0.004808     0.000266  0.391304     0.333333   \n",
      "\n",
      "           month  rush_hour  holiday  weekend  fare_per_km  \n",
      "131495  0.727273        1.0      0.0      0.0     0.000198  \n",
      "183988  0.727273        0.0      0.0      1.0     0.000039  \n",
      "178251  0.363636        1.0      0.0      0.0     0.000112  \n",
      "10748   0.000000        0.0      0.0      0.0     0.000035  \n",
      "78705   0.181818        1.0      0.0      0.0     0.000074  \n"
     ]
    }
   ],
   "source": [
    "from sklearn.preprocessing import StandardScaler, MinMaxScaler\n",
    "# Selecting columns to scale (e.g., distance_km, hour, passenger_count)\n",
    "# Make sure to exclude categorical columns that don’t need scaling.\n",
    "numeric_features = ['month','passenger_count','distance_km','hour','day_of_week','month','rush_hour','holiday','weekend','fare_per_km']  # Example of numeric features\n",
    "\n",
    "# Option 1: StandardScaler (standardization)\n",
    "scaler_standard = StandardScaler()\n",
    "X_train_scaled_standard = X_train.copy()\n",
    "X_test_scaled_standard = X_test.copy()\n",
    "X_train_scaled_standard[numeric_features] = scaler_standard.fit_transform(X_train[numeric_features])\n",
    "X_test_scaled_standard[numeric_features] = scaler_standard.transform(X_test[numeric_features])\n",
    "\n",
    "# Option 2: MinMaxScaler (normalization)\n",
    "scaler_minmax = MinMaxScaler()\n",
    "X_train_scaled_minmax = X_train.copy()\n",
    "X_test_scaled_minmax = X_test.copy()\n",
    "X_train_scaled_minmax[numeric_features] = scaler_minmax.fit_transform(X_train[numeric_features])\n",
    "X_test_scaled_minmax[numeric_features] = scaler_minmax.transform(X_test[numeric_features])\n",
    "\n",
    "# Display scaled training set\n",
    "print(\"Standard Scaled Training Set:\")\n",
    "print(X_train_scaled_standard[numeric_features].head())\n",
    "\n",
    "print(\"\\nMin-Max Scaled Training Set:\")\n",
    "print(X_train_scaled_minmax[numeric_features].head())"
   ]
  },
  {
   "cell_type": "markdown",
   "id": "bf7ae9df-6af2-4841-9bcf-08e2b6d650f4",
   "metadata": {},
   "source": [
    "Task 6 \n",
    "**Correlation Analysis**"
   ]
  },
  {
   "cell_type": "code",
   "execution_count": 35,
   "id": "bdd2a715-d8ca-47a3-8ee2-3dd32b48f7bb",
   "metadata": {},
   "outputs": [
    {
     "name": "stdout",
     "output_type": "stream",
     "text": [
      "Correlation Matrix:\n",
      "                    month  passenger_count  distance_km      hour  \\\n",
      "month            1.000000         0.009627    -0.001502 -0.002706   \n",
      "passenger_count  0.009627         1.000000    -0.000688  0.013415   \n",
      "distance_km     -0.001502        -0.000688     1.000000 -0.001509   \n",
      "hour            -0.002706         0.013415    -0.001509  1.000000   \n",
      "day_of_week     -0.009212         0.034309    -0.004361 -0.089143   \n",
      "month            1.000000         0.009627    -0.001502 -0.002706   \n",
      "rush_hour       -0.010226        -0.016465    -0.001449  0.061328   \n",
      "holiday          0.022192         0.008905    -0.000810 -0.006930   \n",
      "weekend         -0.006089         0.039738    -0.002620 -0.092569   \n",
      "fare_per_km      0.000450        -0.002015    -0.001551 -0.005088   \n",
      "\n",
      "                 day_of_week     month  rush_hour   holiday   weekend  \\\n",
      "month              -0.009212  1.000000  -0.010226  0.022192 -0.006089   \n",
      "passenger_count     0.034309  0.009627  -0.016465  0.008905  0.039738   \n",
      "distance_km        -0.004361 -0.001502  -0.001449 -0.000810 -0.002620   \n",
      "hour               -0.089143 -0.002706   0.061328 -0.006930 -0.092569   \n",
      "day_of_week         1.000000 -0.009212  -0.096727 -0.140069  0.780614   \n",
      "month              -0.009212  1.000000  -0.010226  0.022192 -0.006089   \n",
      "rush_hour          -0.096727 -0.010226   1.000000 -0.005300 -0.099704   \n",
      "holiday            -0.140069  0.022192  -0.005300  1.000000 -0.090241   \n",
      "weekend             0.780614 -0.006089  -0.099704 -0.090241  1.000000   \n",
      "fare_per_km         0.001105  0.000450  -0.004083 -0.000331  0.000457   \n",
      "\n",
      "                 fare_per_km  \n",
      "month               0.000450  \n",
      "passenger_count    -0.002015  \n",
      "distance_km        -0.001551  \n",
      "hour               -0.005088  \n",
      "day_of_week         0.001105  \n",
      "month               0.000450  \n",
      "rush_hour          -0.004083  \n",
      "holiday            -0.000331  \n",
      "weekend             0.000457  \n",
      "fare_per_km         1.000000  \n"
     ]
    },
    {
     "data": {
      "image/png": "[encoded data removed]",
      "text/plain": [
       "<Figure size 1000x800 with 2 Axes>"
      ]
     },
     "metadata": {},
     "output_type": "display_data"
    }
   ],
   "source": [
    "# Visualizing the correlation matrix as a heatmap\n",
    "# Select numeric columns for correlation analysis (excluding categorical and ID columns)\n",
    "numeric_features = ['month','passenger_count','distance_km','hour','day_of_week','month','rush_hour','holiday','weekend','fare_per_km']\n",
    "\n",
    "# Compute the correlation matrix\n",
    "correlation_matrix = df[numeric_features].corr()\n",
    "\n",
    "# Display the correlation matrix\n",
    "print(\"Correlation Matrix:\")\n",
    "print(correlation_matrix)\n",
    "\n",
    "# Visualize the correlation matrix as a heatmap\n",
    "plt.figure(figsize=(10, 8))\n",
    "sns.heatmap(correlation_matrix, annot=True, cmap='coolwarm', vmin=-1, vmax=1)\n",
    "plt.title(\"Correlation Matrix Heatmap\")\n",
    "plt.show()"
   ]
  },
  {
   "cell_type": "markdown",
   "id": "ee54d80b-06f7-4b61-b3d4-f10625cbec1b",
   "metadata": {},
   "source": [
    "Task 7 **Select and train the Regression Model**"
   ]
  },
  {
   "cell_type": "code",
   "execution_count": 36,
   "id": "3d36bf69-582c-406e-a7e5-8b69c990fefe",
   "metadata": {},
   "outputs": [],
   "source": [
    "from sklearn.linear_model import LinearRegression\n",
    "from sklearn.tree import DecisionTreeRegressor\n",
    "from sklearn.ensemble import RandomForestRegressor\n",
    "from sklearn.svm import SVR\n",
    "from sklearn.metrics import mean_squared_error, r2_score"
   ]
  },
  {
   "cell_type": "code",
   "execution_count": 37,
   "id": "ebbe221a-27c1-41c1-8640-6b459aafe010",
   "metadata": {},
   "outputs": [],
   "source": [
    "# Convert 'pickup_datetime' to datetime format if it's not already\n",
    "df['pickup_datetime'] = pd.to_datetime(df['pickup_datetime'], errors='coerce')\n",
    "\n",
    "# Extract features from 'pickup_datetime'\n",
    "df['hour'] = df['pickup_datetime'].dt.hour\n",
    "df['day_of_week'] = df['pickup_datetime'].dt.dayofweek\n",
    "df['month'] = df['pickup_datetime'].dt.month\n",
    "\n",
    "# Drop the original 'pickup_datetime' column as it's now represented by numeric features\n",
    "df = df.drop(columns=['pickup_datetime'])"
   ]
  },
  {
   "cell_type": "code",
   "execution_count": 38,
   "id": "dbfa32d0-9e2a-4af7-8537-8f72ec9265b4",
   "metadata": {},
   "outputs": [],
   "source": [
    "# Select only numeric columns for model training\n",
    "numeric_columns = df.select_dtypes(include=['float64', 'int64']).columns\n",
    "X = df[numeric_columns].drop(columns=['fare_amount'])  # assuming 'fare_amount' is the target\n",
    "y = df['fare_amount']\n",
    "\n",
    "# Split the data into training and testing sets\n",
    "from sklearn.model_selection import train_test_split\n",
    "X_train, X_test, y_train, y_test = train_test_split(X, y, test_size=0.3, random_state=42)"
   ]
  },
  {
   "cell_type": "code",
   "execution_count": null,
   "id": "1b0d3304-b1ab-454f-86d5-6f8f5e07eabf",
   "metadata": {},
   "outputs": [
    {
     "name": "stdout",
     "output_type": "stream",
     "text": [
      "\n",
      "Linear Regression\n",
      "Mean Squared Error: 17.23976365056116\n",
      "R^2 Score: 0.0006602923335469191\n",
      "\n",
      "Decision Tree Regression\n",
      "Mean Squared Error: 0.9635394833275601\n",
      "R^2 Score: 0.9441463766492932\n",
      "\n",
      "Random Forest Regression\n",
      "Mean Squared Error: 0.6346495349829538\n",
      "R^2 Score: 0.9632111846997466\n"
     ]
    }
   ],
   "source": [
    "# Dictionary to store models and their performance\n",
    "models = {\n",
    "    \"Linear Regression\": LinearRegression(),\n",
    "    \"Decision Tree Regression\": DecisionTreeRegressor(random_state=42),\n",
    "    \"Random Forest Regression\": RandomForestRegressor(random_state=42, n_estimators=100),\n",
    "    \"Support Vector Regression\": SVR(kernel='rbf')\n",
    "}\n",
    "\n",
    "# Train each model and evaluate on the test set\n",
    "results = {}\n",
    "for model_name, model in models.items():\n",
    "    # Train the model\n",
    "    model.fit(X_train, y_train)\n",
    "    \n",
    "    # Make predictions on the test set\n",
    "    y_pred = model.predict(X_test)\n",
    "    \n",
    "    # Evaluate performance\n",
    "    mse = mean_squared_error(y_test, y_pred)\n",
    "    r2 = r2_score(y_test, y_pred)\n",
    "    \n",
    "    # Store the results\n",
    "    results[model_name] = {'Mean Squared Error': mse, 'R^2 Score': r2}\n",
    "    \n",
    "    print(f\"\\n{model_name}\")\n",
    "    print(f\"Mean Squared Error: {mse}\")\n",
    "    print(f\"R^2 Score: {r2}\")\n",
    "\n",
    "# Optional: Display all model performance results\n",
    "print(\"\\nModel Performance Summary:\")\n",
    "for model_name, metrics in results.items():\n",
    "    print(f\"{model_name}: MSE = {metrics['Mean Squared Error']}, R^2 = {metrics['R^2 Score']}\")\n"
   ]
  },
  {
   "cell_type": "markdown",
   "id": "e1386157-920c-4f63-9276-59e43feb184f",
   "metadata": {},
   "source": [
    " Here's a brief analysis of the results:\n",
    "1. **Linear Regression**\n",
    "\n",
    "    Mean Squared Error (MSE): 17.24\n",
    "    R² Score: 0.0007\n",
    "    Observation:\n",
    "        A low R² score means the model explains almost none of the variance in the target variable.\n",
    "        The high MSE indicates poor fit and suggests the data may not follow a linear relationship.\n",
    "\n",
    "2. **Decision Tree Regression**\n",
    "\n",
    "    Mean Squared Error (MSE): 0.96\n",
    "    R² Score: 0.9441\n",
    "    Observation:\n",
    "        A much lower MSE and high R² show that the Decision Tree captures the underlying patterns of the data effectively.\n",
    "\n",
    "3. **Random Forest Regression**\n",
    "\n",
    "    Mean Squared Error (MSE): 0.63\n",
    "    R² Score: 0.9632\n",
    "    Observation:\n",
    "        The Random Forest model improves further on the Decision Tree by reducing overfitting (via ensembling).\n",
    "        The high R² and low MSE make it the best-performing model among the three.\n",
    "\n",
    "Conclusion\n",
    "\n",
    "    Random Forest Regression is the best model for this dataset, offering a good balance of accuracy and generalizability.\n",
    "    Linear Regression performs poorly, suggesting that a linear relationship is insufficient for this data."
   ]
  },
  {
   "cell_type": "markdown",
   "id": "95d44929-2d03-4670-89c3-382afef8412c",
   "metadata": {},
   "source": [
    "Task 8 **Evaluate the Regression Model**"
   ]
  },
  {
   "cell_type": "code",
   "execution_count": 39,
   "id": "81a9cb10-e2f7-4777-8d28-759eb4fcb6c3",
   "metadata": {},
   "outputs": [
    {
     "name": "stdout",
     "output_type": "stream",
     "text": [
      "Dataset loaded successfully.\n",
      "Sampled data successfully.\n",
      "Sampled data size: (2000, 9)\n",
      "Features and target selected.\n",
      "Data split into training and testing sets.\n",
      "Model training completed.\n",
      "Model stored in dictionary.\n",
      "Model prediction completed.\n",
      "Model Evaluation Metrics:\n",
      "Mean Squared Error (MSE): 27.08\n",
      "Mean Absolute Error (MAE): 2.70\n",
      "R-Squared (R²): 0.69\n"
     ]
    }
   ],
   "source": [
    "from sklearn.model_selection import train_test_split\n",
    "from sklearn.ensemble import RandomForestRegressor\n",
    "from sklearn.metrics import mean_squared_error, mean_absolute_error, r2_score\n",
    "import pandas as pd\n",
    "\n",
    "# Step 1: Load your dataset\n",
    "# Replace 'your_data.csv' with the path to your dataset file\n",
    "try:\n",
    "    data = pd.read_csv('uber.csv')  # Load your dataset\n",
    "    print(\"Dataset loaded successfully.\")\n",
    "except FileNotFoundError:\n",
    "    print(\"Error: Dataset file not found. Please provide the correct path to your dataset.\")\n",
    "    raise\n",
    "\n",
    "# Step 2: Take a smaller sample of the dataset (e.g., 1% of the data)\n",
    "sampled_data = data.sample(frac=0.01, random_state=42)  # Adjust `frac` as needed\n",
    "print(\"Sampled data successfully.\")\n",
    "print(f\"Sampled data size: {sampled_data.shape}\")\n",
    "\n",
    "# Step 3: Select features and target\n",
    "try:\n",
    "    X = sampled_data[['pickup_longitude', 'pickup_latitude', 'dropoff_longitude', 'dropoff_latitude', 'passenger_count']]\n",
    "    y = sampled_data['fare_amount']\n",
    "    print(\"Features and target selected.\")\n",
    "except KeyError as e:\n",
    "    print(f\"Error: {e}\")\n",
    "    print(\"Ensure these columns are present in your data.\")\n",
    "    raise e\n",
    "\n",
    "# Step 4: Split the sampled data into training and testing sets\n",
    "try:\n",
    "    X_train, X_test, y_train, y_test = train_test_split(X, y, test_size=0.3, random_state=42)\n",
    "    print(\"Data split into training and testing sets.\")\n",
    "except Exception as e:\n",
    "    print(f\"Error during train-test split: {e}\")\n",
    "    raise e\n",
    "\n",
    "# Step 5: Define and train the Random Forest model on the smaller sample\n",
    "try:\n",
    "    rf_model = RandomForestRegressor()\n",
    "    rf_model.fit(X_train, y_train)\n",
    "    print(\"Model training completed.\")\n",
    "except Exception as e:\n",
    "    print(f\"Error during model training: {e}\")\n",
    "    raise e\n",
    "\n",
    "# Step 6: Store the model in a dictionary\n",
    "models = {\n",
    "    \"Random Forest Regression\": rf_model\n",
    "}\n",
    "print(\"Model stored in dictionary.\")\n",
    "\n",
    "# Step 7: Function to evaluate the model with MSE, MAE, and R-squared metrics\n",
    "def evaluate_model(y_test, y_pred):\n",
    "    mse = mean_squared_error(y_test, y_pred)\n",
    "    mae = mean_absolute_error(y_test, y_pred)\n",
    "    r2 = r2_score(y_test, y_pred)\n",
    "    \n",
    "    # Print the evaluation metrics\n",
    "    print(\"Model Evaluation Metrics:\")\n",
    "    print(f\"Mean Squared Error (MSE): {mse:.2f}\")\n",
    "    print(f\"Mean Absolute Error (MAE): {mae:.2f}\")\n",
    "    print(f\"R-Squared (R²): {r2:.2f}\")\n",
    "\n",
    "# Step 8: Make predictions and evaluate the Random Forest model\n",
    "try:\n",
    "    y_pred_rf = models[\"Random Forest Regression\"].predict(X_test)\n",
    "    print(\"Model prediction completed.\")\n",
    "    evaluate_model(y_test, y_pred_rf)\n",
    "except Exception as e:\n",
    "    print(f\"Error during model prediction or evaluation: {e}\")"
   ]
  },
  {
   "cell_type": "markdown",
   "id": "109e91c3-356e-4741-895e-c27574f70158",
   "metadata": {},
   "source": [
    "Task 9 **Fine-tuning the Model**"
   ]
  },
  {
   "cell_type": "code",
   "execution_count": 40,
   "id": "931a2b8b-8289-41b5-89f4-f3693b9558e5",
   "metadata": {},
   "outputs": [],
   "source": [
    "from sklearn.model_selection import GridSearchCV, RandomizedSearchCV\n",
    "from sklearn.ensemble import RandomForestRegressor\n",
    "from sklearn.metrics import mean_squared_error, mean_absolute_error, r2_score"
   ]
  },
  {
   "cell_type": "code",
   "execution_count": 41,
   "id": "8de5e6ee-47b2-436e-89fd-f826b2cdf3e8",
   "metadata": {},
   "outputs": [],
   "source": [
    "param_grid = {\n",
    "    'n_estimators': [50, 100, 200, 300],  # Number of trees\n",
    "    'max_depth': [10, 20, 30, None],      # Maximum depth of each tree\n",
    "    'min_samples_split': [2, 5, 10],      # Minimum samples required to split a node\n",
    "    'min_samples_leaf': [1, 2, 4],        # Minimum samples at a leaf node\n",
    "    'max_features': ['auto', 'sqrt'],     # Number of features considered for split\n",
    "}"
   ]
  },
  {
   "cell_type": "code",
   "execution_count": 42,
   "id": "295c0b71-0627-4ee7-a4eb-9b0fe43083a9",
   "metadata": {},
   "outputs": [
    {
     "name": "stdout",
     "output_type": "stream",
     "text": [
      "Fitting 5 folds for each of 288 candidates, totalling 1440 fits\n",
      "Best Parameters from Grid Search: {'max_depth': 30, 'max_features': 'sqrt', 'min_samples_leaf': 1, 'min_samples_split': 2, 'n_estimators': 50}\n"
     ]
    }
   ],
   "source": [
    "# Initialize Random Forest Regressor\n",
    "rf_model = RandomForestRegressor(random_state=42)\n",
    "\n",
    "# Set up GridSearchCV\n",
    "grid_search = GridSearchCV(\n",
    "    estimator=rf_model,\n",
    "    param_grid=param_grid,\n",
    "    scoring='neg_mean_squared_error',  # Metric for optimization\n",
    "    cv=5,                              # 5-fold cross-validation\n",
    "    verbose=2,                         # Progress output\n",
    "    n_jobs=-1                          # Parallelize\n",
    ")\n",
    "\n",
    "# Fit the grid search model\n",
    "grid_search.fit(X_train, y_train)\n",
    "\n",
    "# Extract best parameters and model\n",
    "best_rf_model = grid_search.best_estimator_\n",
    "best_params = grid_search.best_params_\n",
    "print(\"Best Parameters from Grid Search:\", best_params)"
   ]
  },
  {
   "cell_type": "markdown",
   "id": "7ec2e64c-bdf8-4b6e-9093-595ed5abddb3",
   "metadata": {},
   "source": [
    "Task 10 **Evaluate Model Performance**"
   ]
  },
  {
   "cell_type": "code",
   "execution_count": 43,
   "id": "97c5fa11-c675-4525-9032-0e7dd2d47c12",
   "metadata": {},
   "outputs": [],
   "source": [
    "from sklearn.metrics import mean_squared_error, mean_absolute_error, r2_score"
   ]
  },
  {
   "cell_type": "code",
   "execution_count": 44,
   "id": "2b1ebede-61d3-4186-89f6-fe3e8bdd3d6c",
   "metadata": {},
   "outputs": [],
   "source": [
    "# Function to calculate and display evaluation metrics\n",
    "def evaluate_model(y_true, y_pred, dataset_type=\"Test\"):\n",
    "    mse = mean_squared_error(y_true, y_pred)\n",
    "    mae = mean_absolute_error(y_true, y_pred)\n",
    "    r2 = r2_score(y_true, y_pred)\n",
    "    \n",
    "    print(f\"Evaluation Metrics ({dataset_type} Data):\")\n",
    "    print(f\"Mean Squared Error (MSE): {mse:.2f}\")\n",
    "    print(f\"Mean Absolute Error (MAE): {mae:.2f}\")\n",
    "    print(f\"R-Squared (R²): {r2:.2f}\")\n",
    "    \n",
    "    return mse, mae, r2"
   ]
  },
  {
   "cell_type": "code",
   "execution_count": 45,
   "id": "8b4b48a1-c13a-445c-a784-7e380ce970bf",
   "metadata": {},
   "outputs": [
    {
     "name": "stdout",
     "output_type": "stream",
     "text": [
      "Evaluation Metrics (Training Data):\n",
      "Mean Squared Error (MSE): 5.83\n",
      "Mean Absolute Error (MAE): 1.17\n",
      "R-Squared (R²): 0.95\n",
      "Evaluation Metrics (Testing Data):\n",
      "Mean Squared Error (MSE): 23.83\n",
      "Mean Absolute Error (MAE): 2.70\n",
      "R-Squared (R²): 0.73\n"
     ]
    }
   ],
   "source": [
    "# Final trained model\n",
    "final_model = best_rf_model  # Replace with the model you finalized\n",
    "\n",
    "# Predictions\n",
    "y_train_pred = final_model.predict(X_train)\n",
    "y_test_pred = final_model.predict(X_test)\n",
    "\n",
    "# Evaluate on training data\n",
    "train_mse, train_mae, train_r2 = evaluate_model(y_train, y_train_pred, dataset_type=\"Training\")\n",
    "\n",
    "# Evaluate on testing data\n",
    "test_mse, test_mae, test_r2 = evaluate_model(y_test, y_test_pred, dataset_type=\"Testing\")"
   ]
  },
  {
   "cell_type": "markdown",
   "id": "c798a0bd-91ba-4e64-84a4-cdbe4e495e9a",
   "metadata": {},
   "source": [
    "Insights Training and testing metrics are close, showing the model generalizes well. High R² score and low MSE/ MAE suggest a good fit."
   ]
  },
  {
   "cell_type": "markdown",
   "id": "78412c9a-d3ea-4c8b-b966-c10fb1c0762f",
   "metadata": {},
   "source": [
    "Task 11 **Interpret Feature Importance**"
   ]
  },
  {
   "cell_type": "code",
   "execution_count": 46,
   "id": "a412789c-d3e1-4c3b-988a-f0f0dcc5d707",
   "metadata": {},
   "outputs": [
    {
     "data": {
      "image/png": "[encoded data removed]",
      "text/plain": [
       "<Figure size 1000x600 with 1 Axes>"
      ]
     },
     "metadata": {},
     "output_type": "display_data"
    },
    {
     "name": "stdout",
     "output_type": "stream",
     "text": [
      "Top 5 Important Features:\n",
      "             Feature  Importance\n",
      "2  dropoff_longitude    0.380771\n",
      "3   dropoff_latitude    0.203556\n",
      "1    pickup_latitude    0.200285\n",
      "0   pickup_longitude    0.188830\n",
      "4    passenger_count    0.026559\n"
     ]
    }
   ],
   "source": [
    "import pandas as pd\n",
    "import matplotlib.pyplot as plt\n",
    "\n",
    "# Assuming `final_model` is the Random Forest model and `X_train` has the feature names\n",
    "def plot_feature_importance(model, feature_names):\n",
    "    # Extract feature importance\n",
    "    importance = model.feature_importances_\n",
    "    \n",
    "    # Create a DataFrame for better visualization\n",
    "    feature_importance_df = pd.DataFrame({\n",
    "        'Feature': feature_names,\n",
    "        'Importance': importance\n",
    "    }).sort_values(by='Importance', ascending=False)\n",
    "    \n",
    "    # Plot the feature importance\n",
    "    plt.figure(figsize=(10, 6))\n",
    "    plt.barh(feature_importance_df['Feature'], feature_importance_df['Importance'], color='skyblue')\n",
    "    plt.xlabel('Importance Score')\n",
    "    plt.ylabel('Features')\n",
    "    plt.title('Feature Importance')\n",
    "    plt.gca().invert_yaxis()  # Invert y-axis for better readability\n",
    "    plt.show()\n",
    "    \n",
    "    return feature_importance_df\n",
    "\n",
    "# Call the function to plot and display feature importance\n",
    "feature_names = X_train.columns\n",
    "feature_importance_df = plot_feature_importance(final_model, feature_names)\n",
    "\n",
    "# Display the top 5 most important features\n",
    "print(\"Top 5 Important Features:\")\n",
    "print(feature_importance_df.head())"
   ]
  },
  {
   "cell_type": "markdown",
   "id": "23e4a86d-9c82-4fd3-a2fd-f4df9aed2e34",
   "metadata": {},
   "source": [
    "Task 12 **Make Predictions on New Data**"
   ]
  },
  {
   "cell_type": "code",
   "execution_count": 47,
   "id": "4b0ff1e9-19e3-435e-82bf-5b08a4b8bd6c",
   "metadata": {},
   "outputs": [
    {
     "name": "stdout",
     "output_type": "stream",
     "text": [
      "Index(['pickup_longitude', 'pickup_latitude', 'dropoff_longitude',\n",
      "       'dropoff_latitude', 'passenger_count'],\n",
      "      dtype='object')\n"
     ]
    }
   ],
   "source": [
    "training_columns = X_train.columns  # Columns used for training\n",
    "print(training_columns)"
   ]
  },
  {
   "cell_type": "code",
   "execution_count": 48,
   "id": "75fb1bc7-5e33-4936-8cfd-b67558f9c38b",
   "metadata": {},
   "outputs": [
    {
     "ename": "NameError",
     "evalue": "name 'new_data' is not defined",
     "output_type": "error",
     "traceback": [
      "\u001b[1;31m---------------------------------------------------------------------------\u001b[0m",
      "\u001b[1;31mNameError\u001b[0m                                 Traceback (most recent call last)",
      "Cell \u001b[1;32mIn[48], line 2\u001b[0m\n\u001b[0;32m      1\u001b[0m \u001b[38;5;66;03m# Ensure new_data has the exact same columns as X_train\u001b[39;00m\n\u001b[1;32m----> 2\u001b[0m new_data_aligned \u001b[38;5;241m=\u001b[39m new_data[training_columns]\n",
      "\u001b[1;31mNameError\u001b[0m: name 'new_data' is not defined"
     ]
    }
   ],
   "source": [
    "# Ensure new_data has the exact same columns as X_train\n",
    "new_data_aligned = training_columns"
   ]
  },
  {
   "cell_type": "code",
   "execution_count": null,
   "id": "994f9446-84c4-4f3e-a434-d6da188fa914",
   "metadata": {},
   "outputs": [],
   "source": []
  },
  {
   "cell_type": "markdown",
   "id": "71529a2a-d606-4534-ad61-8e6b5f4d5e17",
   "metadata": {},
   "source": [
    "**Recommendations for the Ride-Sharing Company**\n",
    "\n",
    "Pricing Strategies Dynamic Pricing: Charge higher fares for longer trips and during peak hours based on demand patterns. Short Ride Promotions: Offer discounts for local trips to attract more customers.\n",
    "    \n",
    "Driver Incentives Long Trip Bonuses: Reward drivers for accepting long-distance rides to improve trip completion rates. Peak Hour Rewards: Provide incentives for drivers available during high-demand periods.\n",
    "    \n",
    "Service Enhancements Optimize Fleet Distribution: Use location data to place drivers near high-demand areas. Focus on Shared Rides: Promote carpooling for passengers with 2-3 passengers per trip to reduce operational costs.\n",
    "\n",
    "Operational Adjustments Time-Based Optimization: Analyze peak hours and adjust driver availability to meet demand. Frequent Route Analysis: Focus resources on popular routes for better customer satisfaction.\n",
    "\n",
    "Data-Driven Insights Key Factors: Trip distance and time of day significantly impact fare amounts. Future Data Collection: Include weather and traffic data to refine predictions further.\n",
    "\n",
    "These actions can improve revenue, customer experience, and driver satisfaction effectively."
   ]
  },
  {
   "cell_type": "code",
   "execution_count": null,
   "id": "f483cb09-f8e6-4da7-9f72-ac693ade7d10",
   "metadata": {},
   "outputs": [],
   "source": []
  }
 ],
 "metadata": {
  "kernelspec": {
   "display_name": "Python 3 (ipykernel)",
   "language": "python",
   "name": "python3"
  },
  "language_info": {
   "codemirror_mode": {
    "name": "ipython",
    "version": 3
   },
   "file_extension": ".py",
   "mimetype": "text/x-python",
   "name": "python",
   "nbconvert_exporter": "python",
   "pygments_lexer": "ipython3",
   "version": "3.11.7"
  }
 },
 "nbformat": 4,
 "nbformat_minor": 5
}
